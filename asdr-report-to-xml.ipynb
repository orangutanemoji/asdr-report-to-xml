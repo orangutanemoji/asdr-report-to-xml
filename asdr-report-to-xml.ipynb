{
 "cells": [
  {
   "cell_type": "code",
   "execution_count": 14,
   "metadata": {},
   "outputs": [],
   "source": [
    "#set input filepath in relation to this notebook\n",
    "asdr_filename = 'DVO/ASDR.csv'"
   ]
  },
  {
   "cell_type": "code",
   "execution_count": null,
   "metadata": {},
   "outputs": [],
   "source": [
    "#set whether to print data for debugging\n",
    "DEBUG = False"
   ]
  },
  {
   "cell_type": "code",
   "execution_count": 15,
   "metadata": {},
   "outputs": [],
   "source": [
    "# This code block installs all the necessary libraries\n",
    "# Only needs to be run once, set to False after initial run\n",
    "IF_INITAL_RUN = False\n",
    "if IF_INITAL_RUN:\n",
    "    %pip install pandas\n",
    "    %pip install dict2xml"
   ]
  },
  {
   "cell_type": "code",
   "execution_count": 16,
   "metadata": {},
   "outputs": [],
   "source": [
    "# import libraries\n",
    "import pandas as pd\n",
    "from dict2xml import dict2xml\n",
    "from xml.dom import minidom\n",
    "import xml.etree.ElementTree as ET"
   ]
  },
  {
   "cell_type": "code",
   "execution_count": 17,
   "metadata": {},
   "outputs": [],
   "source": [
    "# Count the unique columns and save their names\n",
    "with open(asdr_filename, 'r') as temp_f:\n",
    "    col_count = [ len(l.split(\",\")) for l in temp_f.readlines() ]\n",
    "column_names = [i for i in range(0, max(col_count))]"
   ]
  },
  {
   "cell_type": "code",
   "execution_count": null,
   "metadata": {},
   "outputs": [],
   "source": [
    "# Read csv\n",
    "asdr_df = pd.read_csv(asdr_filename, header=None, delimiter=\",\", names=column_names)"
   ]
  },
  {
   "cell_type": "code",
   "execution_count": null,
   "metadata": {},
   "outputs": [],
   "source": [
    "# input CSV to excel\n",
    "generate_excel = False\n",
    "if generate_excel:\n",
    "    asdr_df.to_excel(str((asdr_filename.split('.')[0] + \".xlsx\")),header=False,index=False)"
   ]
  },
  {
   "cell_type": "code",
   "execution_count": null,
   "metadata": {},
   "outputs": [],
   "source": [
    "# create systems as nested dictionaries\n",
    "# this can take some time to run\n",
    "systems = []\n",
    "for row in range(len(asdr_df.index)):\n",
    "    if asdr_df.iloc[row][0] == 'TEC System Name:' or asdr_df.iloc[row][0] == 'Zone System Name:':\n",
    "        if row > 3:\n",
    "            systems.append(system_info)\n",
    "        system_info = {}\n",
    "        system_info['NAME'] = asdr_df.iloc[row][1].replace('.','_')\n",
    "    elif not pd.isna(asdr_df.iloc[row][1]):        \n",
    "        system_info[str(asdr_df.iloc[row][1]).split(\":\")[1]] = dict(zip(['VALUE','UNIT','STATUS'], asdr_df.iloc[row][4:7]))\n",
    "\n",
    "systems.append(system_info)       \n",
    "systems"
   ]
  },
  {
   "cell_type": "code",
   "execution_count": null,
   "metadata": {},
   "outputs": [],
   "source": [
    "# find unique entries\n",
    "output_df = pd.read_xml(\"DVO\\Bacnet-Export.xml\")\n",
    "output_df\n",
    "for column in output_df.columns:\n",
    "    if len(output_df[column].unique()) < 100:\n",
    "        print(column,output_df[column].unique())\n",
    "    else:\n",
    "        print(column)"
   ]
  },
  {
   "cell_type": "code",
   "execution_count": null,
   "metadata": {},
   "outputs": [],
   "source": [
    "# make Names\n",
    "mappings =  ['ROOM_TEMP', 'DMPR_COMD', 'AIR_VOLUME', 'CTL_STPT', 'AI_3',\n",
    "             'VLV_COMD', 'CTL_TEMP_IGNORE', 'SUPPLY_TEMP', 'MTR2_COMD', 'DMPR_POS_IGNORE',\n",
    "             'AUX_TEMP', 'VLV1_COMD']\n",
    "mapping_codes = ['004','048','035','092','015','052','078','015','052','049','015','052']\n",
    "\n",
    "mapping_spaces = []\n",
    "combined_mappings = []\n",
    "\n",
    "for i in range(len(mappings)):\n",
    "    mapping_spaces.append(mappings[i].replace(\"_\",\" \"))\n",
    "    combined_mappings.append('(' + mapping_codes[i] + ') ' + mapping_spaces[i])\n",
    "combined_mappings\n"
   ]
  },
  {
   "cell_type": "code",
   "execution_count": 21,
   "metadata": {},
   "outputs": [],
   "source": [
    "# build default system info\n",
    "output_columns = ['Inst', 'Name', 'Desc', 'NC', 'Type', 'Enabled', 'Alarm', 'OM', 'MappedDp', 'MappedDpe','ZeroBase']\n",
    "default_values = [None,None,None,'1',\"Analog-Value\",'true','true',None,None,None,'false']\n",
    "inst_counter = 1\n",
    "\n",
    "dev_attrib = dict(zip([\"Inst\",\"Name\",\"Desc\",\"Enabled\",\"ReadOnly\"],\n",
    "                      [\"1\",\"VirtualBACnetDevice\",\"Virtual BACnet Device\",\"true\",\"true\"]))\n",
    "\n",
    "\n",
    "output_df = pd.DataFrame(columns=output_columns)\n",
    "root = ET.Element('DEV',dev_attrib)"
   ]
  },
  {
   "cell_type": "code",
   "execution_count": 22,
   "metadata": {},
   "outputs": [],
   "source": [
    "# build element tree\n",
    "for system in systems:\n",
    "    for key in list(system.keys()):\n",
    "        \n",
    "        if key in mapping_spaces:\n",
    "            current_row = default_values\n",
    "\n",
    "            # Inst\n",
    "            current_row[0] = str(inst_counter)\n",
    "            inst_counter += 1\n",
    "\n",
    "            # Name\n",
    "            current_row[1] = str(system['NAME']) + \" - \" + combined_mappings[mapping_spaces.index(key)]\n",
    "\n",
    "            # Desc\n",
    "            current_row[2] = system['NAME']\n",
    "            \n",
    "            # OM\n",
    "            current_row[7] = (\"GMS_APOGEE_TEC_APPL_\" + str(int(float(system['APPLICATION']['VALUE']))) + \"_EN\")\n",
    "            \n",
    "            # MappedDp\n",
    "            current_row[8] = (\"GMS_AP2_\" + ((system['NAME']).replace(\"_\",\"?\")))\n",
    "\n",
    "            # MappedDpe\n",
    "            current_row[9] = mappings[mapping_spaces.index(key)]\n",
    "            \n",
    "            output_df.loc[len(output_df.index)] = (current_row) \n",
    "            \n",
    "            current_tags = dict(zip(output_columns,current_row))\n",
    "            ET.SubElement(root, 'OBJ', attrib=current_tags)"
   ]
  },
  {
   "cell_type": "code",
   "execution_count": 23,
   "metadata": {},
   "outputs": [],
   "source": [
    "# output to xml file\n",
    "xml_str = minidom.parseString(ET.tostring(root,xml_declaration=None)).toprettyxml(indent=\"   \")\n",
    "xml_str = xml_str.split(\"<?xml version=\\\"1.0\\\" ?>\")[1][1:]\n",
    "output_filename = str(asdr_filename.split(\".\")[0]) + \".xml\"\n",
    "with open(output_filename, \"w\") as f:\n",
    "    f.write(xml_str)"
   ]
  },
  {
   "cell_type": "code",
   "execution_count": null,
   "metadata": {},
   "outputs": [],
   "source": []
  }
 ],
 "metadata": {
  "kernelspec": {
   "display_name": "Python 3.9.12 ('base')",
   "language": "python",
   "name": "python3"
  },
  "language_info": {
   "codemirror_mode": {
    "name": "ipython",
    "version": 3
   },
   "file_extension": ".py",
   "mimetype": "text/x-python",
   "name": "python",
   "nbconvert_exporter": "python",
   "pygments_lexer": "ipython3",
   "version": "3.9.12"
  },
  "orig_nbformat": 4,
  "vscode": {
   "interpreter": {
    "hash": "b95573fb7bbbaa9dd2d8706cd2d4747f53db31f69f5f6ede46ffa59ec53b5630"
   }
  }
 },
 "nbformat": 4,
 "nbformat_minor": 2
}
